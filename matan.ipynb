{
 "cells": [
  {
   "cell_type": "code",
   "execution_count": 4,
   "metadata": {},
   "outputs": [],
   "source": [
    "import numpy as np\n",
    "import pandas as pd\n",
    "import os"
   ]
  },
  {
   "cell_type": "markdown",
   "metadata": {},
   "source": [
    "# Load data"
   ]
  },
  {
   "cell_type": "code",
   "execution_count": 157,
   "metadata": {},
   "outputs": [],
   "source": [
    "directory = \"github_data\"\n",
    "\n",
    "df = pd.DataFrame(columns=[\"\"])\n",
    "dfs = []\n",
    "for filename in os.listdir(directory):\n",
    "    if filename.endswith(\".txt\"):\n",
    "        if filename == \"PaddleHub_all_data.txt\":\n",
    "            f = open(\"github_data/PaddleHub_all_data.txt\", \"r\", encoding='utf-8')\n",
    "            Lines = f.readlines()\n",
    "            f.close()\n",
    "            temp = pd.DataFrame(Lines)\n",
    "            temp = temp.drop(temp[temp[0] == \"\\n\"].index).reset_index(drop=True)\n",
    "            dfs.append((temp, filename))\n",
    "        else:\n",
    "            path = f\"{directory}/{filename}\"\n",
    "            dfs.append((pd.read_fwf(path, header=None), filename))"
   ]
  },
  {
   "cell_type": "code",
   "execution_count": 158,
   "metadata": {},
   "outputs": [
    {
     "name": "stdout",
     "output_type": "stream",
     "text": [
      "1 building_tool_all_data.txt\n",
      "1 espnet_all_data.txt\n",
      "1 horovod_all_data.txt\n",
      "1 jina_all_data.txt\n",
      "1 PaddleHub_all_data.txt\n",
      "1 PySolFC_all_data.txt\n",
      "1 pytorch_geometric_all_data.txt\n"
     ]
    }
   ],
   "source": [
    "for d, name in dfs:\n",
    "    print(len(d.columns), name)# = [\"contents\"]\n",
    "#     d['name'] = name\n",
    "\n"
   ]
  },
  {
   "cell_type": "code",
   "execution_count": 159,
   "metadata": {},
   "outputs": [
    {
     "data": {
      "text/plain": [
       "[(                                                      0\n",
       "  0                                            import bpy\n",
       "  1      from .core import register_core, unregister_core\n",
       "  2                                           bl_info = {\n",
       "  3                             \"name\": \"Building Tools\",\n",
       "  4     \"author\": \"Ian Ichung'wa Karanja (ranjian0), L...\n",
       "  ...                                                 ...\n",
       "  4657  h_faces = subdivide_face_horizontally(bm, face...\n",
       "  4658                                    # vertical cuts\n",
       "  4659          v_widths = [door_height, frame_thickness]\n",
       "  4660  v_faces = subdivide_face_vertically(bm, h_face...\n",
       "  4661     return v_faces[0], h_faces[::2] + [v_faces[1]]\n",
       "  \n",
       "  [4662 rows x 1 columns],\n",
       "  'building_tool_all_data.txt'),\n",
       " (                                                       0\n",
       "  0                                 #!/usr/bin/env python3\n",
       "  1             from distutils.version import LooseVersion\n",
       "  2                                              import os\n",
       "  3                   from setuptools import find_packages\n",
       "  4                           from setuptools import setup\n",
       "  ...                                                  ...\n",
       "  64770  logging.warning(\"--> it seems that only single...\n",
       "  64771  logging.warning('--> maybe your machine has on...\n",
       "  64772     logging.info(\"cuda availableness check done.\")\n",
       "  64773                         if __name__ == '__main__':\n",
       "  64774                                 main(sys.argv[1:])\n",
       "  \n",
       "  [64775 rows x 1 columns],\n",
       "  'espnet_all_data.txt'),\n",
       " (                                                       0\n",
       "  0      # Copyright 2019 Uber Technologies, Inc. All R...\n",
       "  1                    # Modifications copyright Microsoft\n",
       "  2                                                      #\n",
       "  3      # Licensed under the Apache License, Version 2...\n",
       "  4      # you may not use this file except in complian...\n",
       "  ...                                                  ...\n",
       "  42392                                                  }\n",
       "  42393  # Add any paths that contain custom static fil...\n",
       "  42394  # relative to this directory. They are copied ...\n",
       "  42395  # so a file named \"default.css\" will overwrite...\n",
       "  42396                     html_static_path = ['_static']\n",
       "  \n",
       "  [42397 rows x 1 columns],\n",
       "  'horovod_all_data.txt'),\n",
       " (                                                    0\n",
       "  0                                          import sys\n",
       "  1                                 from os import path\n",
       "  2                from setuptools import find_packages\n",
       "  3                        from setuptools import setup\n",
       "  4      from setuptools.command.develop import develop\n",
       "  ...                                               ...\n",
       "  16262                                             d()\n",
       "  16263                                           else:\n",
       "  16264                       raise UnattachedDriver(d)\n",
       "  16265                                           else:\n",
       "  16266              raise NoDriverForRequest(req_type)\n",
       "  \n",
       "  [16267 rows x 1 columns],\n",
       "  'jina_all_data.txt'),\n",
       " (                                                       0\n",
       "  0                                        #coding:utf-8\\n\n",
       "  1      #   Copyright (c) 2019  PaddlePaddle Authors. ...\n",
       "  2                                                    #\\n\n",
       "  3      # Licensed under the Apache License, Version 2...\n",
       "  4      # you may not use this file except in complian...\n",
       "  ...                                                  ...\n",
       "  94850                                   config=config,\\n\n",
       "  94851                                   add_crf=False)\\n\n",
       "  94852      # Fine-tune and evaluate model by PaddleHu...\n",
       "  94853      # will finish training, evaluation, testin...\n",
       "  94854               seq_label_task.finetune_and_eval()\\n\n",
       "  \n",
       "  [94855 rows x 1 columns],\n",
       "  'PaddleHub_all_data.txt'),\n",
       " (                                                       0\n",
       "  0                                  #!/usr/bin/env python\n",
       "  1      # --------------------------------------------...\n",
       "  2                                                      #\n",
       "  3                     # PySol -- a Python Solitaire game\n",
       "  4                                                      #\n",
       "  ...                                                  ...\n",
       "  87283  drawing_area.connect(\"expose-event\", save_call...\n",
       "  87284         # gobject.timeout_add(2000, save_callback)\n",
       "  87285                                     win.show_all()\n",
       "  87286  # drawing_area.modify_bg(gtk.STATE_NORMAL, gtk...\n",
       "  87287                                         gtk.main()\n",
       "  \n",
       "  [87288 rows x 1 columns],\n",
       "  'PySolFC_all_data.txt'),\n",
       " (                                                       0\n",
       "  0            from setuptools import setup, find_packages\n",
       "  1                                  __version__ = '1.5.0'\n",
       "  2      url = 'https://github.com/rusty1s/pytorch_geom...\n",
       "  3                                   install_requires = [\n",
       "  4                                               'torch',\n",
       "  ...                                                  ...\n",
       "  24276                                        '__dict__',\n",
       "  24277                                      '__module__',\n",
       "  24278                                                  ]\n",
       "  24279           return True if name in members else skip\n",
       "  24280           app.connect('autodoc-skip-member', skip)\n",
       "  \n",
       "  [24281 rows x 1 columns],\n",
       "  'pytorch_geometric_all_data.txt')]"
      ]
     },
     "execution_count": 159,
     "metadata": {},
     "output_type": "execute_result"
    }
   ],
   "source": [
    "dfs"
   ]
  },
  {
   "cell_type": "code",
   "execution_count": null,
   "metadata": {},
   "outputs": [],
   "source": []
  },
  {
   "cell_type": "code",
   "execution_count": null,
   "metadata": {},
   "outputs": [],
   "source": []
  },
  {
   "cell_type": "code",
   "execution_count": null,
   "metadata": {},
   "outputs": [],
   "source": []
  }
 ],
 "metadata": {
  "kernelspec": {
   "display_name": "Python 3",
   "language": "python",
   "name": "python3"
  },
  "language_info": {
   "codemirror_mode": {
    "name": "ipython",
    "version": 3
   },
   "file_extension": ".py",
   "mimetype": "text/x-python",
   "name": "python",
   "nbconvert_exporter": "python",
   "pygments_lexer": "ipython3",
   "version": "3.7.6"
  }
 },
 "nbformat": 4,
 "nbformat_minor": 4
}
