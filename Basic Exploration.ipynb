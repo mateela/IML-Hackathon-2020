{
 "cells": [
  {
   "cell_type": "code",
   "execution_count": 8,
   "metadata": {},
   "outputs": [],
   "source": [
    "import pandas as pd\n",
    "import os"
   ]
  },
  {
   "cell_type": "code",
   "execution_count": 9,
   "metadata": {},
   "outputs": [],
   "source": [
    "def load_data(directory):\n",
    "    dfs = []\n",
    "    for filename in os.listdir(directory):\n",
    "        if filename.endswith(\".txt\"):\n",
    "            f = open(directory + filename, \"r\", encoding='utf-8')\n",
    "            Lines = f.readlines()\n",
    "            f.close()\n",
    "            temp = pd.DataFrame()\n",
    "            temp[\"text\"] = Lines\n",
    "            temp[\"project_name\"] = filename\n",
    "            temp = temp.drop(temp[temp[\"text\"] == \"\\n\"].index).reset_index(drop=True)\n",
    "            dfs.append(temp)\n",
    "    \n",
    "    data = pd.DataFrame(columns=[\"text\", \"project_name\"])\n",
    "\n",
    "    for p in dfs:\n",
    "        data = pd.concat([data, p], axis=0)\n",
    "    data = data.reset_index(inplace=False)[[\"text\", \"project_name\"]]\n",
    "    data['text'] = data[data.text.str.endswith(\"\\n\")]['text'].str[:-2]\n",
    "    data = clean_set_indicator(data)\n",
    "    return data\n",
    "\n",
    "\n",
    "def clean_set_indicator(data):\n",
    "    for s in [\"train\", \"validation\", \"test\"]:\n",
    "        data.project_name = data.project_name.str.replace(f\"_{s}\",\"\")\n",
    "    return data"
   ]
  },
  {
   "cell_type": "code",
   "execution_count": 12,
   "metadata": {},
   "outputs": [],
   "source": [
    "data = load_data(\"github_data/train_set/\")"
   ]
  },
  {
   "cell_type": "code",
   "execution_count": 19,
   "metadata": {},
   "outputs": [
    {
     "data": {
      "text/plain": [
       "<matplotlib.axes._subplots.AxesSubplot at 0x2137a92c348>"
      ]
     },
     "execution_count": 19,
     "metadata": {},
     "output_type": "execute_result"
    },
    {
     "data": {
      "image/png": "[encoded data removed]",
      "text/plain": [
       "<Figure size 432x288 with 1 Axes>"
      ]
     },
     "metadata": {
      "needs_background": "light"
     },
     "output_type": "display_data"
    }
   ],
   "source": [
    "data.drop_duplicates().groupby(\"project_name\").count().plot(kind='bar')"
   ]
  },
  {
   "cell_type": "code",
   "execution_count": null,
   "metadata": {},
   "outputs": [],
   "source": []
  }
 ],
 "metadata": {
  "kernelspec": {
   "display_name": "Python 3",
   "language": "python",
   "name": "python3"
  },
  "language_info": {
   "codemirror_mode": {
    "name": "ipython",
    "version": 3
   },
   "file_extension": ".py",
   "mimetype": "text/x-python",
   "name": "python",
   "nbconvert_exporter": "python",
   "pygments_lexer": "ipython3",
   "version": "3.7.6"
  }
 },
 "nbformat": 4,
 "nbformat_minor": 4
}
